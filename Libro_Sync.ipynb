{
  "nbformat": 4,
  "nbformat_minor": 0,
  "metadata": {
    "colab": {
      "provenance": []
    },
    "kernelspec": {
      "name": "python3",
      "display_name": "Python 3"
    },
    "language_info": {
      "name": "python"
    }
  },
  "cells": [
    {
      "cell_type": "code",
      "execution_count": 4,
      "metadata": {
        "colab": {
          "base_uri": "https://localhost:8080/"
        },
        "id": "hMxsS7eDXtQm",
        "outputId": "0360c3f2-b428-418e-8ce1-0d4f88056dcf"
      },
      "outputs": [
        {
          "output_type": "stream",
          "name": "stdout",
          "text": [
            "openjdk version \"11.0.28\" 2025-07-15\n",
            "OpenJDK Runtime Environment (build 11.0.28+6-post-Ubuntu-1ubuntu122.04.1)\n",
            "OpenJDK 64-Bit Server VM (build 11.0.28+6-post-Ubuntu-1ubuntu122.04.1, mixed mode, sharing)\n",
            "error: file not found: LibraryAI.java\n",
            "Usage: javac <options> <source files>\n",
            "use --help for a list of possible options\n",
            "Error: Could not find or load main class LibraryAI\n",
            "Caused by: java.lang.ClassNotFoundException: LibraryAI\n"
          ]
        }
      ],
      "source": [
        "!java -version\n",
        "!javac LibraryAI.java\n",
        "!java LibraryAI"
      ]
    },
    {
      "cell_type": "code",
      "source": [
        "%%writefile LibraryAI.java\n",
        "import java.util.*;\n",
        "import java.util.stream.Collectors;\n",
        "\n",
        "class Book {\n",
        "    String id, title, author, genre;\n",
        "    Book(String id, String title, String author, String genre) {\n",
        "        this.id=id; this.title=title; this.author=author; this.genre=genre;\n",
        "    }\n",
        "    public String toString() {\n",
        "        return \"[\"+id+\"] \"+title+\" by \"+author+\" (\"+genre+\")\";\n",
        "    }\n",
        "}\n",
        "\n",
        "class Library {\n",
        "    List<Book> books = new ArrayList<>();\n",
        "    void addBook(Book b) { books.add(b); }\n",
        "    void showBooks() {\n",
        "        for(Book b: books) System.out.println(b);\n",
        "    }\n",
        "    List<Book> recommendBooks(String interest){\n",
        "        Map<Book,Double> scores=new HashMap<>();\n",
        "        for(Book b:books){\n",
        "            String text=(b.title+\" \"+b.author+\" \"+b.genre).toLowerCase();\n",
        "            scores.put(b, similarity(text, interest.toLowerCase()));\n",
        "        }\n",
        "        return scores.entrySet().stream()\n",
        "          .sorted((a,b)->Double.compare(b.getValue(),a.getValue()))\n",
        "          .limit(3).map(Map.Entry::getKey).collect(Collectors.toList());\n",
        "    }\n",
        "    private double similarity(String doc,String query){\n",
        "        Set<String>w=new HashSet<>(Arrays.asList(doc.split(\" \")));\n",
        "        Set<String>q=new HashSet<>(Arrays.asList(query.split(\" \")));\n",
        "        Set<String>i=new HashSet<>(w); i.retainAll(q);\n",
        "        return (double)i.size()/(Math.sqrt(w.size()*q.size())+1e-6);\n",
        "    }\n",
        "}\n",
        "\n",
        "public class LibraryAI {\n",
        "    public static void main(String[] args){\n",
        "        Scanner sc=new Scanner(System.in);\n",
        "        Library lib=new Library();\n",
        "        lib.addBook(new Book(\"B1\",\"Artificial Intelligence Basics\",\"John McCarthy\",\"AI\"));\n",
        "        lib.addBook(new Book(\"B2\",\"Data Science with Python\",\"Jake VanderPlas\",\"Data Science\"));\n",
        "        lib.addBook(new Book(\"B3\",\"Deep Learning\",\"Ian Goodfellow\",\"AI\"));\n",
        "        lib.addBook(new Book(\"B4\",\"Database System Concepts\",\"Silberschatz\",\"Databases\"));\n",
        "        lib.addBook(new Book(\"B5\",\"Clean Code\",\"Robert Martin\",\"Programming\"));\n",
        "\n",
        "        while(true){\n",
        "            System.out.println(\"\\n===== Library AI Menu =====\");\n",
        "            System.out.println(\"1. Show all books\");\n",
        "            System.out.println(\"2. Add a new book\");\n",
        "            System.out.println(\"3. Get AI Recommendations\");\n",
        "            System.out.println(\"4. Exit\");\n",
        "            System.out.print(\"👉 Enter choice: \");\n",
        "            int ch=sc.nextInt(); sc.nextLine();\n",
        "            if(ch==1) lib.showBooks();\n",
        "            else if(ch==2){\n",
        "                System.out.print(\"ID: \"); String id=sc.nextLine();\n",
        "                System.out.print(\"Title: \"); String t=sc.nextLine();\n",
        "                System.out.print(\"Author: \"); String a=sc.nextLine();\n",
        "                System.out.print(\"Genre: \"); String g=sc.nextLine();\n",
        "                lib.addBook(new Book(id,t,a,g));\n",
        "            }\n",
        "            else if(ch==3){\n",
        "                System.out.print(\"Enter interest: \");\n",
        "                String in=sc.nextLine();\n",
        "                System.out.println(\"🤖 Recommended:\");\n",
        "                for(Book b: lib.recommendBooks(in)) System.out.println(b);\n",
        "            }\n",
        "            else if(ch==4){ System.out.println(\"Bye 👋\"); break; }\n",
        "        }\n",
        "    }\n",
        "}\n"
      ],
      "metadata": {
        "colab": {
          "base_uri": "https://localhost:8080/"
        },
        "id": "llD3R2k6YHrh",
        "outputId": "fe3d35fd-31e3-4836-ead4-501bed3b5178"
      },
      "execution_count": 7,
      "outputs": [
        {
          "output_type": "stream",
          "name": "stdout",
          "text": [
            "Overwriting LibraryAI.java\n"
          ]
        }
      ]
    },
    {
      "cell_type": "code",
      "source": [
        "!javac LibraryAI.java\n"
      ],
      "metadata": {
        "id": "ZYFMnuJKY8Dk"
      },
      "execution_count": 8,
      "outputs": []
    },
    {
      "cell_type": "code",
      "source": [
        "!java LibraryAI"
      ],
      "metadata": {
        "colab": {
          "base_uri": "https://localhost:8080/"
        },
        "id": "Tb21bUVgY_Ok",
        "outputId": "285a885f-3e7d-4d5d-fcb8-234f7a058bcb"
      },
      "execution_count": 9,
      "outputs": [
        {
          "output_type": "stream",
          "name": "stdout",
          "text": [
            "\n",
            "===== Library AI Menu =====\n",
            "1. Show all books\n",
            "2. Add a new book\n",
            "3. Get AI Recommendations\n",
            "4. Exit\n",
            "👉 Enter choice: 1\n",
            "[B1] Artificial Intelligence Basics by John McCarthy (AI)\n",
            "[B2] Data Science with Python by Jake VanderPlas (Data Science)\n",
            "[B3] Deep Learning by Ian Goodfellow (AI)\n",
            "[B4] Database System Concepts by Silberschatz (Databases)\n",
            "[B5] Clean Code by Robert Martin (Programming)\n",
            "\n",
            "===== Library AI Menu =====\n",
            "1. Show all books\n",
            "2. Add a new book\n",
            "3. Get AI Recommendations\n",
            "4. Exit\n",
            "👉 Enter choice: 4\n",
            "Bye 👋\n"
          ]
        }
      ]
    }
  ]
}